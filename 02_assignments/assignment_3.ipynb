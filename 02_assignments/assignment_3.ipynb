{
 "cells": [
  {
   "cell_type": "markdown",
   "id": "7b0bcac6-5086-4f4e-928a-570a9ff7ae58",
   "metadata": {},
   "source": [
    "# Assignment 3"
   ]
  },
  {
   "cell_type": "markdown",
   "id": "5fce0350-2a17-4e93-8d4c-0b8748fdfc32",
   "metadata": {},
   "source": [
    "As before, if a question can be answered with 'yes/no', or a numeric value, you may simply state as much. If you incorporate code from the internet (which is not required and generally not advisable), please cite the source within your code (providing a URL is sufficient).\n",
    "\n",
    "We will go through comparable code and concepts in the live learning session. If you run into trouble, start by using the help `help()` function in Python, to get information about the datasets and function in question. The internet is also a great resource when coding (though note that no outside searches are required by the assignment!). If you do incorporate code from the internet, please cite the source within your code (providing a URL is sufficient).\n",
    "\n",
    "Please bring questions that you cannot work out on your own to office hours, work periods or share with your peers on Slack. We will work with you through the issue."
   ]
  },
  {
   "cell_type": "code",
   "execution_count": 14,
   "id": "b92f7c91",
   "metadata": {},
   "outputs": [],
   "source": [
    "import numpy as np\n",
    "import pandas as pd\n",
    "import matplotlib.pyplot as plt\n",
    "import statsmodels.api as sm\n",
    "import warnings"
   ]
  },
  {
   "cell_type": "markdown",
   "id": "d7fff1dd-e4ce-4a60-96a0-d08136e9bf5e",
   "metadata": {},
   "source": [
    "### Question 1: Resampling via Bootstrapping\n",
    "\n",
    "Now, we'll use the `iris` dataset, which we will add to Python using the `statsmodels` library."
   ]
  },
  {
   "cell_type": "code",
   "execution_count": 15,
   "id": "47f4dcf5-0d4c-41ea-892d-d9f2c1aa1859",
   "metadata": {},
   "outputs": [],
   "source": [
    "iris = sm.datasets.get_rdataset('iris', 'datasets')\n",
    "df = pd.DataFrame(iris.data)"
   ]
  },
  {
   "cell_type": "markdown",
   "id": "c8157cb4",
   "metadata": {},
   "source": [
    "As usual, start by reviewing, describing and printing the dataset."
   ]
  },
  {
   "cell_type": "code",
   "execution_count": 16,
   "id": "5dd7d8ce",
   "metadata": {},
   "outputs": [
    {
     "name": "stdout",
     "output_type": "stream",
     "text": [
      "   Sepal.Length  Sepal.Width  Petal.Length  Petal.Width Species\n",
      "0           5.1          3.5           1.4          0.2  setosa\n",
      "1           4.9          3.0           1.4          0.2  setosa\n",
      "2           4.7          3.2           1.3          0.2  setosa\n",
      "3           4.6          3.1           1.5          0.2  setosa\n",
      "4           5.0          3.6           1.4          0.2  setosa\n",
      "(150, 5)\n",
      "       Sepal.Length  Sepal.Width  Petal.Length  Petal.Width\n",
      "count    150.000000   150.000000    150.000000   150.000000\n",
      "mean       5.843333     3.057333      3.758000     1.199333\n",
      "std        0.828066     0.435866      1.765298     0.762238\n",
      "min        4.300000     2.000000      1.000000     0.100000\n",
      "25%        5.100000     2.800000      1.600000     0.300000\n",
      "50%        5.800000     3.000000      4.350000     1.300000\n",
      "75%        6.400000     3.300000      5.100000     1.800000\n",
      "max        7.900000     4.400000      6.900000     2.500000\n"
     ]
    }
   ],
   "source": [
    "print(df.head())\n",
    "print(df.shape)\n",
    "print(df.describe())"
   ]
  },
  {
   "cell_type": "markdown",
   "id": "7717a32c",
   "metadata": {},
   "source": [
    "_(i)_ Create an `alpha_func(D, idx)` function which takes the `Sepal`'s `width` and `length` to calculate for alpha"
   ]
  },
  {
   "cell_type": "code",
   "execution_count": 17,
   "id": "f3da5483",
   "metadata": {},
   "outputs": [],
   "source": [
    "def alpha_func(D, idx):    \n",
    "    sepal_length = D['Sepal.Length'].iloc[idx]\n",
    "    sepal_width = D['Sepal.Width'].iloc[idx]\n",
    "    \n",
    "    var_x = np.var(sepal_length, ddof=1)\n",
    "    var_y = np.var(sepal_width, ddof=1)\n",
    "\n",
    "    if var_x == 0 or var_y == 0:\n",
    "        return np.nan\n",
    "\n",
    "    cov_xy = np.cov(sepal_length, sepal_width, ddof=1)[0, 1]\n",
    "    alpha = (var_y - cov_xy) / (var_x + var_y - 2 * cov_xy)\n",
    "    \n",
    "    return alpha"
   ]
  },
  {
   "cell_type": "markdown",
   "id": "ff94d66b",
   "metadata": {},
   "source": [
    "Test the code below"
   ]
  },
  {
   "cell_type": "code",
   "execution_count": 18,
   "id": "eda715cd",
   "metadata": {},
   "outputs": [
    {
     "data": {
      "text/plain": [
       "0.24196097556885587"
      ]
     },
     "execution_count": 18,
     "metadata": {},
     "output_type": "execute_result"
    }
   ],
   "source": [
    "alpha_func(df, range(150))"
   ]
  },
  {
   "cell_type": "markdown",
   "id": "f338b14e",
   "metadata": {},
   "source": [
    "_(ii)_ Construct a new bootstrap data set and recompute alpha"
   ]
  },
  {
   "cell_type": "code",
   "execution_count": 19,
   "id": "34ee835f",
   "metadata": {},
   "outputs": [
    {
     "data": {
      "text/plain": [
       "[0.18830058535860075,\n",
       " 0.18830058535860075,\n",
       " 0.18830058535860075,\n",
       " 0.18830058535860075,\n",
       " 0.18830058535860075]"
      ]
     },
     "execution_count": 19,
     "metadata": {},
     "output_type": "execute_result"
    }
   ],
   "source": [
    "warnings.filterwarnings(\"ignore\")\n",
    "rng = np.random.default_rng(0)\n",
    "bootstrap_indices = rng.choice(df.index, size=150, replace=True)\n",
    "bootstrap_alphas = [alpha_func(df, bootstrap_indices) for _ in range(150)]\n",
    "bootstrap_alphas[:5]"
   ]
  },
  {
   "cell_type": "markdown",
   "id": "056080ff-7aec-41aa-bb61-763b390e4cf2",
   "metadata": {},
   "source": [
    "Imagine we are analysts working for a shipping company. The company wants to know the average length of iris' petals, to inform space allotment on an upcoming shipment. The relevant variable in the dataset is `Sepal.Length`. \n",
    "\n",
    "_(iii)_ Why is it (perhaps) not sufficient to simply calculate the mean of `Sepal.Length`?\n",
    "\n",
    "- Calculating the mean of Sepal.Length gives us a single value that represents the average length of the sepals in the dataset.\n",
    "\n",
    "What more information will preforming a bootstrap provide to us?\n",
    "\n",
    "- The bootstrap method provides additional information about the reliability and precision of that mean by estimating the standard error.\n",
    "\n",
    "_(iv)_ We can perform bootstrapping in Python by defining a simple function using `boot_SE()` for computing the bootstrap standard error. Remember, because bootstrapping involves randomness, we must first set a seed for reproducibility!"
   ]
  },
  {
   "cell_type": "code",
   "execution_count": 20,
   "id": "77540f76-7747-4dba-8e77-e1ded54af536",
   "metadata": {},
   "outputs": [
    {
     "name": "stdout",
     "output_type": "stream",
     "text": [
      "Bootstrap standard error for Sepal.Length: 0.06790599049012129\n"
     ]
    }
   ],
   "source": [
    "def boot_SE(data, column, n_bootstrap=1000, rng=None):\n",
    "    if rng is None:\n",
    "        rng = np.random.default_rng()\n",
    "    \n",
    "    bootstrap_means = [\n",
    "        data[column].sample(frac=1, replace=True, random_state=rng).mean()\n",
    "        for _ in range(n_bootstrap)\n",
    "    ]\n",
    "    \n",
    "    bootstrap_se = np.std(bootstrap_means)\n",
    "    return bootstrap_se\n",
    "\n",
    "bootstrap_se = boot_SE(df, 'Sepal.Length')\n",
    "print(f\"Bootstrap standard error for Sepal.Length: {bootstrap_se}\")"
   ]
  },
  {
   "cell_type": "markdown",
   "id": "8a543472",
   "metadata": {},
   "source": [
    "_(v)_ Evaluate the accuracy of our alpha estimate with B = 1000"
   ]
  },
  {
   "cell_type": "code",
   "execution_count": 21,
   "id": "9ed41c4e",
   "metadata": {},
   "outputs": [
    {
     "name": "stdout",
     "output_type": "stream",
     "text": [
      "Mean alpha: 0.24130919833797682\n",
      "Standard error of alpha: 0.03180510076860766\n"
     ]
    }
   ],
   "source": [
    "def bootstrap_alpha(data, n_bootstrap=1000, seed=0):\n",
    "    rng = np.random.default_rng(seed)\n",
    "    bootstrap_alphas = []\n",
    "    \n",
    "    for _ in range(n_bootstrap):\n",
    "        bootstrap_indices = rng.choice(data.index, size=len(data), replace=True)\n",
    "        sepal_length_sample = data['Sepal.Length'].iloc[bootstrap_indices]\n",
    "        sepal_width_sample = data['Sepal.Width'].iloc[bootstrap_indices]\n",
    "        \n",
    "        var_x = np.var(sepal_length_sample, ddof=1)\n",
    "        var_y = np.var(sepal_width_sample, ddof=1)\n",
    "        cov_xy = np.cov(sepal_length_sample, sepal_width_sample, ddof=1)[0, 1]\n",
    "        \n",
    "        if var_x == 0 or var_y == 0:\n",
    "            bootstrap_alphas.append(np.nan)\n",
    "        else:\n",
    "            alpha = (var_y - cov_xy) / (var_x + var_y - 2 * cov_xy)\n",
    "            bootstrap_alphas.append(alpha)\n",
    "    \n",
    "    mean_alpha = np.nanmean(bootstrap_alphas)\n",
    "    se_alpha = np.nanstd(bootstrap_alphas)\n",
    "    \n",
    "    return bootstrap_alphas, mean_alpha, se_alpha\n",
    "\n",
    "\n",
    "def bootstrap_means(data, column, n_bootstrap=1000, seed=0):\n",
    "    rng = np.random.default_rng(seed)\n",
    "    bootstrap_means = []\n",
    "    \n",
    "    for _ in range(n_bootstrap):\n",
    "        bootstrap_sample = data[column].sample(frac=1, replace=True, random_state=rng)\n",
    "        bootstrap_means.append(bootstrap_sample.mean())\n",
    "    \n",
    "    return bootstrap_means\n",
    "\n",
    "bootstrap_alphas, mean_alpha, se_alpha = bootstrap_alpha(df, n_bootstrap=1000)\n",
    "print(f\"Mean alpha: {mean_alpha}\")\n",
    "print(f\"Standard error of alpha: {se_alpha}\")"
   ]
  },
  {
   "cell_type": "markdown",
   "id": "785fe758-f395-40b6-a9a3-28ec2efeba29",
   "metadata": {},
   "source": [
    "_(vi)_ What is the original mean value of `Sepal.Length`?"
   ]
  },
  {
   "cell_type": "code",
   "execution_count": 22,
   "id": "ee30f1fa",
   "metadata": {},
   "outputs": [
    {
     "name": "stdout",
     "output_type": "stream",
     "text": [
      "Original mean of Sepal.Length: 5.843333333333334\n"
     ]
    }
   ],
   "source": [
    "original_mean_sepal_length = df['Sepal.Length'].mean()\n",
    "print(f\"Original mean of Sepal.Length: {original_mean_sepal_length}\")"
   ]
  },
  {
   "cell_type": "markdown",
   "id": "93924ff1",
   "metadata": {},
   "source": [
    "\n",
    "Next, let's look _inside_ our bootstrapping to understand the new, bootstrapped sample we have created. Let's review the bootstrapped range, by using `t_range = np.ptp(boot_se_samples)`.\n",
    "\n",
    "_(vii)_. Write code to review the bootstrapped mean value, and the standard deviation of the bootstrapped samples. Compare the mean against its original value."
   ]
  },
  {
   "cell_type": "code",
   "execution_count": 23,
   "id": "7686243c",
   "metadata": {},
   "outputs": [
    {
     "name": "stdout",
     "output_type": "stream",
     "text": [
      "Range of bootstrap alpha samples: 0.20825385137700023\n",
      "Bootstrapped mean alpha: 0.24130919833797682\n",
      "Bootstrapped standard deviation of alpha: 0.03180510076860766\n",
      "Original mean of Sepal.Length: 5.843333333333334\n"
     ]
    }
   ],
   "source": [
    "t_range = np.ptp(bootstrap_alphas)\n",
    "print(f\"Range of bootstrap alpha samples: {t_range}\")\n",
    "\n",
    "bootstrapped_mean_alpha = np.mean(bootstrap_alphas)\n",
    "bootstrapped_std_alpha = np.std(bootstrap_alphas)\n",
    "print(f\"Bootstrapped mean alpha: {bootstrapped_mean_alpha}\")\n",
    "print(f\"Bootstrapped standard deviation of alpha: {bootstrapped_std_alpha}\")\n",
    "print(f\"Original mean of Sepal.Length: {original_mean_sepal_length}\")"
   ]
  },
  {
   "cell_type": "markdown",
   "id": "66c6c663-f3bb-4a15-8896-6dccfb7259fd",
   "metadata": {},
   "source": [
    "_(viii)_ Next, let's compute 95% confidence intervals, for the mean value of iris petal length. (Hint: use the `np.percentile` function)"
   ]
  },
  {
   "cell_type": "code",
   "execution_count": 24,
   "id": "74de4a76-e500-4c93-82a9-e7365cc86c91",
   "metadata": {},
   "outputs": [
    {
     "name": "stdout",
     "output_type": "stream",
     "text": [
      "95% confidence interval for the mean Sepal.Length: (5.718616666666667, 5.974716666666667)\n"
     ]
    }
   ],
   "source": [
    "bootstrap_samples = bootstrap_means (df, 'Sepal.Length', n_bootstrap=1000)\n",
    "\n",
    "ci_lower = np.percentile(bootstrap_samples, 2.5)\n",
    "ci_upper = np.percentile(bootstrap_samples, 97.5)\n",
    "print(f\"95% confidence interval for the mean Sepal.Length: ({ci_lower}, {ci_upper})\")"
   ]
  },
  {
   "cell_type": "markdown",
   "id": "488e54f7-ebe4-4740-835c-9832320005d0",
   "metadata": {},
   "source": [
    "_(ix)_. Use the plot function to create an histogram of the bootstrapped samples. What does this histogram show ?"
   ]
  },
  {
   "cell_type": "code",
   "execution_count": 25,
   "id": "4fca4e3f",
   "metadata": {},
   "outputs": [
    {
     "data": {
      "image/png": "[encoded data removed]",
      "text/plain": [
       "<Figure size 640x480 with 1 Axes>"
      ]
     },
     "metadata": {},
     "output_type": "display_data"
    }
   ],
   "source": [
    "fig, ax = plt.subplots()\n",
    "\n",
    "plt.hist(bootstrap_samples, bins=30, edgecolor='black')\n",
    "plt.axvline(ci_lower, color='red', linestyle='dashed', linewidth=1)\n",
    "plt.axvline(ci_upper, color='red', linestyle='dashed', linewidth=1)\n",
    "plt.axvline(original_mean_sepal_length, color='blue', linestyle='solid', linewidth=2)\n",
    "\n",
    "plt.title('Histogram of Bootstrapped Means of Sepal.Length')\n",
    "\n",
    "plt.xlabel('Mean Sepal.Length')\n",
    "\n",
    "plt.ylabel('Frequency')\n",
    "\n",
    "plt.show()"
   ]
  },
  {
   "cell_type": "markdown",
   "id": "bfa9a095-9c7a-4ab5-aa99-b11bf419fae0",
   "metadata": {},
   "source": [
    "_(x)_ Given your bootstrapped analysis, what do you recommend to shipping company? "
   ]
  },
  {
   "cell_type": "markdown",
   "id": "5e83202e-4aab-44bb-8586-5d0e82e9e201",
   "metadata": {},
   "source": [
    "1. Calculate average petal space based on sepal length.\n",
    "2. Leave extra space based on the highest limit of the 95% confidence range to accommodate petal differences and ensure all the petals can fit in the given area.\n",
    "3. Regularly review space requirements with updated data and bootstrap analysis."
   ]
  },
  {
   "cell_type": "markdown",
   "id": "466943e8",
   "metadata": {},
   "source": [
    "# Criteria\n",
    "\n",
    "|Criteria            |Complete           |Incomplete          |\n",
    "|--------------------|---------------|--------------|\n",
    "|Bootstrapping|All steps are done correctly and the answers are correct.|At least one step is done incorrectly leading to a wrong answer.|"
   ]
  },
  {
   "cell_type": "markdown",
   "id": "68b8a226",
   "metadata": {},
   "source": [
    "## Submission Information\n",
    "\n",
    "🚨 **Please review our [Assignment Submission Guide](https://github.com/UofT-DSI/onboarding/blob/main/onboarding_documents/submissions.md)** 🚨 for detailed instructions on how to format, branch, and submit your work. Following these guidelines is crucial for your submissions to be evaluated correctly.\n",
    "\n",
    "### Note:\n",
    "\n",
    "If you like, you may collaborate with others in the cohort. If you choose to do so, please indicate with whom you have worked with in your pull request by tagging their GitHub username. Separate submissions are required.\n",
    "\n",
    "\n",
    "### Submission Parameters:\n",
    "* Submission Due Date: `11:59 PM - 16/06/2024`\n",
    "* The branch name for your repo should be: `assignment-3`\n",
    "* What to submit for this assignment:\n",
    "    * This Jupyter Notebook (assignment_3.ipynb) should be populated and should be the only change in your pull request.\n",
    "* What the pull request link should look like for this assignment: `https://github.com/FredyLRincon/applying_statistical_concepts/pull/3`\n",
    "    * Open a private window in your browser. Copy and paste the link to your pull request into the address bar. Make sure you can see your pull request properly. This helps the technical facilitator and learning support staff review your submission easily.\n",
    "\n",
    "Checklist:\n",
    "- [X] Created a branch with the correct naming convention.\n",
    "- [X] Ensured that the repository is public.\n",
    "- [X] Reviewed the PR description guidelines and adhered to them.\n",
    "- [X] Verify that the link is accessible in a private browser window.\n",
    "\n",
    "If you encounter any difficulties or have questions, please don't hesitate to reach out to our team via our Slack at `#cohort-3-help`. Our Technical Facilitators and Learning Support staff are here to help you navigate any challenges.\n"
   ]
  }
 ],
 "metadata": {
  "kernelspec": {
   "display_name": "Python 3.10.4",
   "language": "python",
   "name": "python3"
  },
  "language_info": {
   "codemirror_mode": {
    "name": "ipython",
    "version": 3
   },
   "file_extension": ".py",
   "mimetype": "text/x-python",
   "name": "python",
   "nbconvert_exporter": "python",
   "pygments_lexer": "ipython3",
   "version": "3.9.15"
  },
  "vscode": {
   "interpreter": {
    "hash": "497a84dc8fec8cf8d24e7e87b6d954c9a18a327edc66feb9b9ea7e9e72cc5c7e"
   }
  }
 },
 "nbformat": 4,
 "nbformat_minor": 5
}
